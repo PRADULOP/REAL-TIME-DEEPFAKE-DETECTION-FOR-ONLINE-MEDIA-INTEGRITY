{
  "cells": [
    {
      "cell_type": "markdown",
      "metadata": {
        "id": "aUAGIQbtovT4"
      },
      "source": [
        "### Mount Google Drive"
      ]
    },
    {
      "cell_type": "code",
      "execution_count": null,
      "metadata": {
        "colab": {
          "base_uri": "https://localhost:8080/"
        },
        "id": "am61t8lWX80k",
        "outputId": "2a79ec5b-3545-4cac-8a6a-20b77f1e2cf9"
      },
      "outputs": [],
      "source": [
        "#Mount our google drive\n",
        "from google.colab import drive\n",
        "drive.mount('/content/drive')"
      ]
    },
    {
      "cell_type": "code",
      "execution_count": null,
      "metadata": {
        "colab": {
          "base_uri": "https://localhost:8080/"
        },
        "id": "d_ula-BPVqtG",
        "outputId": "417b8d77-1cd8-4dd3-dcb3-efb0d4ca666d"
      },
      "outputs": [],
      "source": [
        "import torch\n",
        "\n",
        "# Check if GPU is available\n",
        "device = torch.device(\"cuda\" if torch.cuda.is_available() else \"cpu\")\n",
        "\n",
        "# This will print 'cpu' on Colab if the Hardware accelerator is set to 'None'\n",
        "print(f\"Using device: {device}\")\n",
        "\n",
        "# Example: create a tensor on the selected device\n",
        "tensor = torch.tensor([1.0, 2.0]).to(device)\n"
      ]
    },
    {
      "cell_type": "code",
      "execution_count": null,
      "metadata": {
        "id": "qq_Vmmhtb-_i"
      },
      "outputs": [],
      "source": [
        "# Import necessary libraries\n",
        "import torch\n",
        "import torchvision\n",
        "from torchvision import transforms\n",
        "from torch.utils.data import DataLoader\n",
        "from torch.utils.data.dataset import Dataset\n",
        "import os\n",
        "import numpy as np\n",
        "import cv2\n",
        "import matplotlib.pyplot as plt\n",
        "from tqdm.autonotebook import tqdm\n",
        "import glob"
      ]
    },
    {
      "cell_type": "code",
      "execution_count": null,
      "metadata": {
        "id": "rN-AGQiKeIvj"
      },
      "outputs": [],
      "source": [
        "import face_recognition"
      ]
    },
    {
      "cell_type": "code",
      "execution_count": null,
      "metadata": {
        "id": "Hh_UAnWqcu9x"
      },
      "outputs": [],
      "source": [
        "# Glob module is used to retrieve files/pathnames matching a specified pattern\n",
        "# Here, it retrieves all .mp4 files from the 'fake' directory\n",
        "video_files =  glob.glob(\"/content/drive/MyDrive/raw dataset (videos)/train/*.mp4\")\n",
        "\n",
        "# Similarly, it retrieves all .mp4 files from the 'real' directory\n",
        "video_files1 =  glob.glob(\"/content/drive/MyDrive/raw dataset (videos)/test/*.mp4\")\n",
        "\n",
        "# Concatenating the two lists of video files\n",
        "video_files += video_files1"
      ]
    },
    {
      "cell_type": "code",
      "execution_count": null,
      "metadata": {
        "id": "5x_3b2iicAAK"
      },
      "outputs": [],
      "source": [
        "def frame_extract(path):\n",
        "    \"\"\"\n",
        "    Generator function to extract frames from a video file.\n",
        "\n",
        "    Args:\n",
        "    - path: Path to the video file.\n",
        "\n",
        "    Yields:\n",
        "    - image: Each frame extracted from the video.\n",
        "    \"\"\"\n",
        "    vidObj = cv2.VideoCapture(path)\n",
        "    success = 1\n",
        "    while success:\n",
        "        success, image = vidObj.read()\n",
        "        if success:\n",
        "            yield image"
      ]
    },
    {
      "cell_type": "code",
      "execution_count": null,
      "metadata": {
        "id": "7QLUeTQKcJYg"
      },
      "outputs": [],
      "source": [
        "def create_face_videos(path_list, train_out_dir, test_out_dir):\n",
        "    \"\"\"\n",
        "    Function to create cropped face videos from a list of video files.\n",
        "\n",
        "    Args:\n",
        "    - path_list: List of paths to the video files.\n",
        "    - fake_out_dir: Directory to save the cropped face videos for fake data.\n",
        "    - real_out_dir: Directory to save the cropped face videos for real data.\n",
        "    \"\"\"\n",
        "    already_present_count_fake = glob.glob(train_out_dir + '*.mp4')\n",
        "    already_present_count_real = glob.glob(test_out_dir + '*.mp4')\n",
        "    print(\"Number of fake videos already present:\", len(already_present_count_fake))\n",
        "    print(\"Number of real videos already present:\", len(already_present_count_real))\n",
        "    for path in tqdm(path_list):\n",
        "        out_dir = train_out_dir if 'train' in path else test_out_dir\n",
        "        out_path = os.path.join(out_dir, path.split('/')[-1])\n",
        "        file_exists = glob.glob(out_path)\n",
        "        if len(file_exists) != 0:\n",
        "            print(\"File already exists:\", out_path)\n",
        "            continue\n",
        "        frames = []\n",
        "        out = cv2.VideoWriter(out_path, cv2.VideoWriter_fourcc('M','J','P','G'), 30, (256,256))\n",
        "        for idx, frame in enumerate(frame_extract(path)):\n",
        "            if idx < 60:  # Keep only the first 60 frames\n",
        "                frames.append(frame)\n",
        "                if len(frames) == 4:\n",
        "                    faces = face_recognition.batch_face_locations(frames)\n",
        "                    for i, face in enumerate(faces):\n",
        "                        if len(face) != 0:\n",
        "                            top, right, bottom, left = face[0]\n",
        "                            try:\n",
        "                                out.write(cv2.resize(frames[i][top:bottom, left:right, :], (256,256)))\n",
        "                            except:\n",
        "                                pass\n",
        "                    frames = []\n",
        "        out.release()"
      ]
    },
    {
      "cell_type": "code",
      "execution_count": null,
      "metadata": {
        "colab": {
          "background_save": true
        },
        "id": "b-MxLzoBcNVm"
      },
      "outputs": [],
      "source": [
        "# Create cropped face videos for both fake and real videos\n",
        "create_face_videos(video_files, '/content/drive/MyDrive/preprocessed dataset/train', '/content/drive/MyDrive/preprocessed dataset/test')"
      ]
    }
  ],
  "metadata": {
    "colab": {
      "provenance": []
    },
    "kernelspec": {
      "display_name": "Python 3",
      "name": "python3"
    },
    "language_info": {
      "name": "python"
    }
  },
  "nbformat": 4,
  "nbformat_minor": 0
}
